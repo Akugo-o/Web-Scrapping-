{
 "cells": [
  {
   "cell_type": "code",
   "execution_count": 1,
   "id": "daccf784",
   "metadata": {},
   "outputs": [],
   "source": [
    "#install Beautifulsoup"
   ]
  },
  {
   "cell_type": "code",
   "execution_count": 2,
   "id": "554b71ab",
   "metadata": {},
   "outputs": [
    {
     "name": "stdout",
     "output_type": "stream",
     "text": [
      "Requirement already satisfied: Beautifulsoup4 in c:\\users\\shopinverse\\anaconda3\\lib\\site-packages (4.11.1)\n",
      "Requirement already satisfied: soupsieve>1.2 in c:\\users\\shopinverse\\anaconda3\\lib\\site-packages (from Beautifulsoup4) (2.3.1)\n"
     ]
    }
   ],
   "source": [
    "!pip install Beautifulsoup4"
   ]
  },
  {
   "cell_type": "code",
   "execution_count": 3,
   "id": "4d6b21d2",
   "metadata": {},
   "outputs": [],
   "source": [
    "#import libraries"
   ]
  },
  {
   "cell_type": "code",
   "execution_count": 4,
   "id": "7519f5d7",
   "metadata": {},
   "outputs": [],
   "source": [
    "import pandas as pd   \n",
    "import requests\n",
    "from bs4 import BeautifulSoup \n",
    "import numpy as np  "
   ]
  },
  {
   "cell_type": "code",
   "execution_count": 5,
   "id": "7f2abe50",
   "metadata": {},
   "outputs": [],
   "source": [
    "#assigning the URL with variable name url"
   ]
  },
  {
   "cell_type": "code",
   "execution_count": 6,
   "id": "53c9143f",
   "metadata": {},
   "outputs": [],
   "source": [
    "url = 'https://www.imdb.com/search/title/?count=100&groups=top_1000&sort=user_rating'"
   ]
  },
  {
   "cell_type": "code",
   "execution_count": 7,
   "id": "e8687abe",
   "metadata": {},
   "outputs": [
    {
     "name": "stdout",
     "output_type": "stream",
     "text": [
      "<Response [200]>\n"
     ]
    }
   ],
   "source": [
    "#request allow you to send HTTP request\n",
    "response = requests.get(url)\n",
    "print(response)"
   ]
  },
  {
   "cell_type": "code",
   "execution_count": 8,
   "id": "fccd6e5b",
   "metadata": {},
   "outputs": [],
   "source": [
    "soup = BeautifulSoup(response.content, 'html.parser')"
   ]
  },
  {
   "cell_type": "code",
   "execution_count": 9,
   "id": "2c1844b8",
   "metadata": {},
   "outputs": [],
   "source": [
    "#creating list, so that we can append the values\n",
    "movie_name = []\n",
    "year = []\n",
    "time = []\n",
    "rating = []\n",
    "metascore = []\n",
    "votes = []\n",
    "gross = []\n",
    "description = []\n",
    "Director = []\n",
    "Stars = []\n"
   ]
  },
  {
   "cell_type": "code",
   "execution_count": 10,
   "id": "d3627555",
   "metadata": {},
   "outputs": [],
   "source": [
    "#storing the meaningfull required data in the variable\n",
    "movie_data = soup.findAll('div', attrs= {'class': 'lister-item mode-advanced'})"
   ]
  },
  {
   "cell_type": "code",
   "execution_count": 11,
   "id": "f15e1c6b",
   "metadata": {},
   "outputs": [],
   "source": [
    "for store in movie_data:\n",
    "    name = store.h3.a.text"
   ]
  },
  {
   "cell_type": "code",
   "execution_count": 12,
   "id": "cb33b9d7",
   "metadata": {},
   "outputs": [
    {
     "data": {
      "text/plain": [
       "'Drishyam'"
      ]
     },
     "execution_count": 12,
     "metadata": {},
     "output_type": "execute_result"
    }
   ],
   "source": [
    "name"
   ]
  },
  {
   "cell_type": "code",
   "execution_count": 13,
   "id": "702f60f8",
   "metadata": {},
   "outputs": [],
   "source": [
    "for store in movie_data:\n",
    "    name = store.h3.a.text\n",
    "    movie_name.append(name)\n",
    "    \n",
    "    year_of_release = store.h3.find('span', class_ = 'lister-item-year text-muted unbold').text.replace('(', '').replace(')', '')\n",
    "    year.append(year_of_release)\n",
    "    \n",
    "    runtime = store.p.find('span', class_ = 'runtime').text.replace(' min', '')\n",
    "    time.append(runtime)\n",
    "    \n",
    "    rate = store.find('div', class_ = 'inline-block ratings-imdb-rating').text.replace('\\n', '')\n",
    "    rating.append(rate)\n",
    "    \n",
    "    meta  = store.find('span', class_ = 'metascore').text.replace(' ', '') if store.find('span', class_ = 'metascore') else '^^^^^^'\n",
    "    metascore.append(meta)\n",
    "    \n",
    "     #since, gross and votes have same attributes, that's why we had created a common variable and then used indexing\n",
    "    value = store.find_all('span', attrs = {'name': 'nv'})\n",
    "    \n",
    "    vote = value[0].text\n",
    "    votes.append(vote)\n",
    "    \n",
    "    grosses = value[1].text if len(value) >1 else '*****'\n",
    "    gross.append(grosses)\n",
    "    \n",
    "    # Description of the Movies -- Not explained in the Video, But you will figure it out. \n",
    "    describe = store.find_all('p', class_ = 'text-muted')\n",
    "    description_ = describe[1].text.replace('\\n', '') if len(describe) >1 else '*****'\n",
    "    description.append(description_)\n",
    "    \n",
    "     #Cast Details -- Scraping Director name and Stars -- Not explained in Video\n",
    "    cast = store.find(\"p\", class_ = '')\n",
    "    cast = cast.text.replace('\\n', '').split('|')\n",
    "    cast = [x.strip() for x in cast]\n",
    "    cast = [cast[i].replace(j, \"\") for i,j in enumerate([\"Director:\", \"Stars:\"])]\n",
    "    Director.append(cast[0])\n",
    "    Stars.append([x.strip() for x in cast[1].split(\",\")])\n",
    "    "
   ]
  },
  {
   "cell_type": "code",
   "execution_count": 15,
   "id": "b4100672",
   "metadata": {},
   "outputs": [],
   "source": [
    "#creating a dataframe using pandas library"
   ]
  },
  {
   "cell_type": "code",
   "execution_count": 17,
   "id": "a69e407f",
   "metadata": {},
   "outputs": [],
   "source": [
    "movie_DF = pd.DataFrame({'Name of movie': movie_name, 'Year of relase': year, 'Watchtime': time, 'Movie Rating': rating, 'Metascore': metascore, 'Votes': votes, 'Gross collection': gross, 'Description': description, \"Director\": Director, 'Star': Stars})"
   ]
  },
  {
   "cell_type": "code",
   "execution_count": 18,
   "id": "1d3e702a",
   "metadata": {},
   "outputs": [
    {
     "data": {
      "text/html": [
       "<div>\n",
       "<style scoped>\n",
       "    .dataframe tbody tr th:only-of-type {\n",
       "        vertical-align: middle;\n",
       "    }\n",
       "\n",
       "    .dataframe tbody tr th {\n",
       "        vertical-align: top;\n",
       "    }\n",
       "\n",
       "    .dataframe thead th {\n",
       "        text-align: right;\n",
       "    }\n",
       "</style>\n",
       "<table border=\"1\" class=\"dataframe\">\n",
       "  <thead>\n",
       "    <tr style=\"text-align: right;\">\n",
       "      <th></th>\n",
       "      <th>Name of movie</th>\n",
       "      <th>Year of relase</th>\n",
       "      <th>Watchtime</th>\n",
       "      <th>Movie Rating</th>\n",
       "      <th>Metascore</th>\n",
       "      <th>Votes</th>\n",
       "      <th>Gross collection</th>\n",
       "      <th>Description</th>\n",
       "      <th>Director</th>\n",
       "      <th>Star</th>\n",
       "    </tr>\n",
       "  </thead>\n",
       "  <tbody>\n",
       "    <tr>\n",
       "      <th>0</th>\n",
       "      <td>The Shawshank Redemption</td>\n",
       "      <td>1994</td>\n",
       "      <td>142</td>\n",
       "      <td>9.3</td>\n",
       "      <td>81</td>\n",
       "      <td>2,636,550</td>\n",
       "      <td>$28.34M</td>\n",
       "      <td>Two imprisoned men bond over a number of years...</td>\n",
       "      <td>Frank Darabont</td>\n",
       "      <td>[Tim Robbins, Morgan Freeman, Bob Gunton, Will...</td>\n",
       "    </tr>\n",
       "    <tr>\n",
       "      <th>1</th>\n",
       "      <td>The Godfather</td>\n",
       "      <td>1972</td>\n",
       "      <td>175</td>\n",
       "      <td>9.2</td>\n",
       "      <td>100</td>\n",
       "      <td>1,827,376</td>\n",
       "      <td>$134.97M</td>\n",
       "      <td>The aging patriarch of an organized crime dyna...</td>\n",
       "      <td>Francis Ford Coppola</td>\n",
       "      <td>[Marlon Brando, Al Pacino, James Caan, Diane K...</td>\n",
       "    </tr>\n",
       "    <tr>\n",
       "      <th>2</th>\n",
       "      <td>Rocketry: The Nambi Effect</td>\n",
       "      <td>2022</td>\n",
       "      <td>157</td>\n",
       "      <td>9.0</td>\n",
       "      <td>^^^^^^</td>\n",
       "      <td>42,627</td>\n",
       "      <td>*****</td>\n",
       "      <td>Based on the life of Indian Space Research Org...</td>\n",
       "      <td>Madhavan</td>\n",
       "      <td>[Madhavan, Simran, Rajit Kapoor, Ravi Raghaven...</td>\n",
       "    </tr>\n",
       "    <tr>\n",
       "      <th>3</th>\n",
       "      <td>The Dark Knight</td>\n",
       "      <td>2008</td>\n",
       "      <td>152</td>\n",
       "      <td>9.0</td>\n",
       "      <td>84</td>\n",
       "      <td>2,607,840</td>\n",
       "      <td>$534.86M</td>\n",
       "      <td>When the menace known as the Joker wreaks havo...</td>\n",
       "      <td>Christopher Nolan</td>\n",
       "      <td>[Christian Bale, Heath Ledger, Aaron Eckhart, ...</td>\n",
       "    </tr>\n",
       "    <tr>\n",
       "      <th>4</th>\n",
       "      <td>The Lord of the Rings: The Return of the King</td>\n",
       "      <td>2003</td>\n",
       "      <td>201</td>\n",
       "      <td>9.0</td>\n",
       "      <td>94</td>\n",
       "      <td>1,810,871</td>\n",
       "      <td>$377.85M</td>\n",
       "      <td>Gandalf and Aragorn lead the World of Men agai...</td>\n",
       "      <td>Peter Jackson</td>\n",
       "      <td>[Elijah Wood, Viggo Mortensen, Ian McKellen, O...</td>\n",
       "    </tr>\n",
       "    <tr>\n",
       "      <th>...</th>\n",
       "      <td>...</td>\n",
       "      <td>...</td>\n",
       "      <td>...</td>\n",
       "      <td>...</td>\n",
       "      <td>...</td>\n",
       "      <td>...</td>\n",
       "      <td>...</td>\n",
       "      <td>...</td>\n",
       "      <td>...</td>\n",
       "      <td>...</td>\n",
       "    </tr>\n",
       "    <tr>\n",
       "      <th>95</th>\n",
       "      <td>Hamilton</td>\n",
       "      <td>2020</td>\n",
       "      <td>160</td>\n",
       "      <td>8.3</td>\n",
       "      <td>90</td>\n",
       "      <td>91,881</td>\n",
       "      <td>#119</td>\n",
       "      <td>The real life of one of America's foremost fou...</td>\n",
       "      <td>Thomas Kail</td>\n",
       "      <td>[Lin-Manuel Miranda, Phillipa Soo, Leslie Odom...</td>\n",
       "    </tr>\n",
       "    <tr>\n",
       "      <th>96</th>\n",
       "      <td>Ratsasan</td>\n",
       "      <td>2018</td>\n",
       "      <td>170</td>\n",
       "      <td>8.3</td>\n",
       "      <td>^^^^^^</td>\n",
       "      <td>42,257</td>\n",
       "      <td>*****</td>\n",
       "      <td>A sub-inspector sets out in pursuit of a myste...</td>\n",
       "      <td>Ram Kumar</td>\n",
       "      <td>[Vishnu Vishal, Amala Paul, Radha Ravi, Sangil...</td>\n",
       "    </tr>\n",
       "    <tr>\n",
       "      <th>97</th>\n",
       "      <td>Ayla: The Daughter of War</td>\n",
       "      <td>2017</td>\n",
       "      <td>125</td>\n",
       "      <td>8.3</td>\n",
       "      <td>^^^^^^</td>\n",
       "      <td>39,590</td>\n",
       "      <td>*****</td>\n",
       "      <td>In 1950, amid-st the ravages of the Korean War...</td>\n",
       "      <td>Can Ulkay</td>\n",
       "      <td>[Çetin Tekindor, Ismail Hacioglu, Kyung-jin Le...</td>\n",
       "    </tr>\n",
       "    <tr>\n",
       "      <th>98</th>\n",
       "      <td>Dangal</td>\n",
       "      <td>2016</td>\n",
       "      <td>161</td>\n",
       "      <td>8.3</td>\n",
       "      <td>^^^^^^</td>\n",
       "      <td>188,568</td>\n",
       "      <td>$12.39M</td>\n",
       "      <td>Former wrestler Mahavir Singh Phogat and his t...</td>\n",
       "      <td>Nitesh Tiwari</td>\n",
       "      <td>[Aamir Khan, Sakshi Tanwar, Fatima Sana Shaikh...</td>\n",
       "    </tr>\n",
       "    <tr>\n",
       "      <th>99</th>\n",
       "      <td>Drishyam</td>\n",
       "      <td>2013</td>\n",
       "      <td>160</td>\n",
       "      <td>8.3</td>\n",
       "      <td>^^^^^^</td>\n",
       "      <td>41,138</td>\n",
       "      <td>*****</td>\n",
       "      <td>A man goes to extreme lengths to save his fami...</td>\n",
       "      <td>Jeethu Joseph</td>\n",
       "      <td>[Mohanlal, Meena, Asha Sharath, Ansiba]</td>\n",
       "    </tr>\n",
       "  </tbody>\n",
       "</table>\n",
       "<p>100 rows × 10 columns</p>\n",
       "</div>"
      ],
      "text/plain": [
       "                                    Name of movie Year of relase Watchtime  \\\n",
       "0                        The Shawshank Redemption           1994       142   \n",
       "1                                   The Godfather           1972       175   \n",
       "2                      Rocketry: The Nambi Effect           2022       157   \n",
       "3                                 The Dark Knight           2008       152   \n",
       "4   The Lord of the Rings: The Return of the King           2003       201   \n",
       "..                                            ...            ...       ...   \n",
       "95                                       Hamilton           2020       160   \n",
       "96                                       Ratsasan           2018       170   \n",
       "97                      Ayla: The Daughter of War           2017       125   \n",
       "98                                         Dangal           2016       161   \n",
       "99                                       Drishyam           2013       160   \n",
       "\n",
       "   Movie Rating Metascore      Votes Gross collection  \\\n",
       "0           9.3        81  2,636,550          $28.34M   \n",
       "1           9.2       100  1,827,376         $134.97M   \n",
       "2           9.0    ^^^^^^     42,627            *****   \n",
       "3           9.0        84  2,607,840         $534.86M   \n",
       "4           9.0        94  1,810,871         $377.85M   \n",
       "..          ...       ...        ...              ...   \n",
       "95          8.3        90     91,881             #119   \n",
       "96          8.3    ^^^^^^     42,257            *****   \n",
       "97          8.3    ^^^^^^     39,590            *****   \n",
       "98          8.3    ^^^^^^    188,568          $12.39M   \n",
       "99          8.3    ^^^^^^     41,138            *****   \n",
       "\n",
       "                                          Description              Director  \\\n",
       "0   Two imprisoned men bond over a number of years...        Frank Darabont   \n",
       "1   The aging patriarch of an organized crime dyna...  Francis Ford Coppola   \n",
       "2   Based on the life of Indian Space Research Org...              Madhavan   \n",
       "3   When the menace known as the Joker wreaks havo...     Christopher Nolan   \n",
       "4   Gandalf and Aragorn lead the World of Men agai...         Peter Jackson   \n",
       "..                                                ...                   ...   \n",
       "95  The real life of one of America's foremost fou...           Thomas Kail   \n",
       "96  A sub-inspector sets out in pursuit of a myste...             Ram Kumar   \n",
       "97  In 1950, amid-st the ravages of the Korean War...             Can Ulkay   \n",
       "98  Former wrestler Mahavir Singh Phogat and his t...         Nitesh Tiwari   \n",
       "99  A man goes to extreme lengths to save his fami...         Jeethu Joseph   \n",
       "\n",
       "                                                 Star  \n",
       "0   [Tim Robbins, Morgan Freeman, Bob Gunton, Will...  \n",
       "1   [Marlon Brando, Al Pacino, James Caan, Diane K...  \n",
       "2   [Madhavan, Simran, Rajit Kapoor, Ravi Raghaven...  \n",
       "3   [Christian Bale, Heath Ledger, Aaron Eckhart, ...  \n",
       "4   [Elijah Wood, Viggo Mortensen, Ian McKellen, O...  \n",
       "..                                                ...  \n",
       "95  [Lin-Manuel Miranda, Phillipa Soo, Leslie Odom...  \n",
       "96  [Vishnu Vishal, Amala Paul, Radha Ravi, Sangil...  \n",
       "97  [Çetin Tekindor, Ismail Hacioglu, Kyung-jin Le...  \n",
       "98  [Aamir Khan, Sakshi Tanwar, Fatima Sana Shaikh...  \n",
       "99            [Mohanlal, Meena, Asha Sharath, Ansiba]  \n",
       "\n",
       "[100 rows x 10 columns]"
      ]
     },
     "execution_count": 18,
     "metadata": {},
     "output_type": "execute_result"
    }
   ],
   "source": [
    "movie_DF"
   ]
  },
  {
   "cell_type": "code",
   "execution_count": 22,
   "id": "04c2383d",
   "metadata": {},
   "outputs": [],
   "source": [
    "movie_DF.to_csv(\"IMDb_Web_Scrapping.csv\")"
   ]
  },
  {
   "cell_type": "code",
   "execution_count": 27,
   "id": "1e5a8e7a",
   "metadata": {},
   "outputs": [],
   "source": [
    "movie_DF.to_excel(\"IMDb_Web_Scrapping.xlsx\")"
   ]
  },
  {
   "cell_type": "code",
   "execution_count": null,
   "id": "34ec7642",
   "metadata": {},
   "outputs": [],
   "source": []
  },
  {
   "cell_type": "code",
   "execution_count": null,
   "id": "92c52af4",
   "metadata": {},
   "outputs": [],
   "source": []
  }
 ],
 "metadata": {
  "kernelspec": {
   "display_name": "Python 3 (ipykernel)",
   "language": "python",
   "name": "python3"
  },
  "language_info": {
   "codemirror_mode": {
    "name": "ipython",
    "version": 3
   },
   "file_extension": ".py",
   "mimetype": "text/x-python",
   "name": "python",
   "nbconvert_exporter": "python",
   "pygments_lexer": "ipython3",
   "version": "3.9.12"
  }
 },
 "nbformat": 4,
 "nbformat_minor": 5
}
